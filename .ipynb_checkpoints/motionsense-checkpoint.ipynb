{
 "cells": [
  {
   "cell_type": "code",
   "execution_count": 104,
   "id": "6f77070b-7dc3-4059-8c77-ae060d30978e",
   "metadata": {},
   "outputs": [
    {
     "name": "stdout",
     "output_type": "stream",
     "text": [
      "=== TRAIN ===\n",
      "Shape: 7352 rows x 563 cols\n",
      "Dtypes count:\n",
      " float64    561\n",
      "int64        1\n",
      "object       1\n",
      "Name: count, dtype: int64\n",
      "\n",
      "First 3 rows:\n",
      "    Subject  Activity  tBodyAcc-mean()-X  tBodyAcc-mean()-Y  tBodyAcc-mean()-Z  \\\n",
      "0        1  STANDING           0.288585          -0.020294          -0.132905   \n",
      "1        1  STANDING           0.278419          -0.016411          -0.123520   \n",
      "2        1  STANDING           0.279653          -0.019467          -0.113462   \n",
      "\n",
      "   tBodyAcc-std()-X  tBodyAcc-std()-Y  tBodyAcc-std()-Z  tBodyAcc-mad()-X  \\\n",
      "0         -0.995279         -0.983111         -0.913526         -0.995112   \n",
      "1         -0.998245         -0.975300         -0.960322         -0.998807   \n",
      "2         -0.995380         -0.967187         -0.978944         -0.996520   \n",
      "\n",
      "   tBodyAcc-mad()-Y  ...  fBodyBodyGyroJerkMag-meanFreq()  \\\n",
      "0         -0.983185  ...                        -0.074323   \n",
      "1         -0.974914  ...                         0.158075   \n",
      "2         -0.963668  ...                         0.414503   \n",
      "\n",
      "   fBodyBodyGyroJerkMag-skewness()  fBodyBodyGyroJerkMag-kurtosis()  \\\n",
      "0                        -0.298676                        -0.710304   \n",
      "1                        -0.595051                        -0.861499   \n",
      "2                        -0.390748                        -0.760104   \n",
      "\n",
      "   angle(tBodyAccMean,gravity)  angle(tBodyAccJerkMean),gravityMean)  \\\n",
      "0                    -0.112754                              0.030400   \n",
      "1                     0.053477                             -0.007435   \n",
      "2                    -0.118559                              0.177899   \n",
      "\n",
      "   angle(tBodyGyroMean,gravityMean)  angle(tBodyGyroJerkMean,gravityMean)  \\\n",
      "0                         -0.464761                             -0.018446   \n",
      "1                         -0.732626                              0.703511   \n",
      "2                          0.100699                              0.808529   \n",
      "\n",
      "   angle(X,gravityMean)  angle(Y,gravityMean)  angle(Z,gravityMean)  \n",
      "0             -0.841247              0.179941             -0.058627  \n",
      "1             -0.844788              0.180289             -0.054317  \n",
      "2             -0.848933              0.180637             -0.049118  \n",
      "\n",
      "[3 rows x 563 columns]\n",
      "\n",
      "Missing values (top 10):\n",
      " Subject                      0\n",
      "fBodyAccJerk-kurtosis()-X    0\n",
      "fBodyAccJerk-maxInds-Y       0\n",
      "fBodyAccJerk-maxInds-Z       0\n",
      "fBodyAccJerk-meanFreq()-X    0\n",
      "fBodyAccJerk-meanFreq()-Y    0\n",
      "fBodyAccJerk-meanFreq()-Z    0\n",
      "fBodyAccJerk-skewness()-X    0\n",
      "fBodyAccJerk-skewness()-Y    0\n",
      "fBodyAccJerk-entropy()-Z     0\n",
      "dtype: int64\n",
      "Duplicate rows: 0\n",
      "\n",
      "=== TEST ===\n",
      "Shape: 2947 rows x 563 cols\n",
      "Dtypes count:\n",
      " float64    561\n",
      "int64        1\n",
      "object       1\n",
      "Name: count, dtype: int64\n",
      "\n",
      "First 3 rows:\n",
      "    Subject  Activity  tBodyAcc-mean()-X  tBodyAcc-mean()-Y  tBodyAcc-mean()-Z  \\\n",
      "0        2  STANDING           0.257178          -0.023285          -0.014654   \n",
      "1        2  STANDING           0.286027          -0.013163          -0.119083   \n",
      "2        2  STANDING           0.275485          -0.026050          -0.118152   \n",
      "\n",
      "   tBodyAcc-std()-X  tBodyAcc-std()-Y  tBodyAcc-std()-Z  tBodyAcc-mad()-X  \\\n",
      "0         -0.938404         -0.920091         -0.667683         -0.952501   \n",
      "1         -0.975415         -0.967458         -0.944958         -0.986799   \n",
      "2         -0.993819         -0.969926         -0.962748         -0.994403   \n",
      "\n",
      "   tBodyAcc-mad()-Y  ...  fBodyBodyGyroJerkMag-meanFreq()  \\\n",
      "0         -0.925249  ...                         0.071645   \n",
      "1         -0.968401  ...                        -0.401189   \n",
      "2         -0.970735  ...                         0.062891   \n",
      "\n",
      "   fBodyBodyGyroJerkMag-skewness()  fBodyBodyGyroJerkMag-kurtosis()  \\\n",
      "0                        -0.330370                        -0.705974   \n",
      "1                        -0.121845                        -0.594944   \n",
      "2                        -0.190422                        -0.640736   \n",
      "\n",
      "   angle(tBodyAccMean,gravity)  angle(tBodyAccJerkMean),gravityMean)  \\\n",
      "0                     0.006462                              0.162920   \n",
      "1                    -0.083495                              0.017500   \n",
      "2                    -0.034956                              0.202302   \n",
      "\n",
      "   angle(tBodyGyroMean,gravityMean)  angle(tBodyGyroJerkMean,gravityMean)  \\\n",
      "0                         -0.825886                              0.271151   \n",
      "1                         -0.434375                              0.920593   \n",
      "2                          0.064103                              0.145068   \n",
      "\n",
      "   angle(X,gravityMean)  angle(Y,gravityMean)  angle(Z,gravityMean)  \n",
      "0             -0.720009              0.276801             -0.057978  \n",
      "1             -0.698091              0.281343             -0.083898  \n",
      "2             -0.702771              0.280083             -0.079346  \n",
      "\n",
      "[3 rows x 563 columns]\n",
      "\n",
      "Missing values (top 10):\n",
      " Subject                      0\n",
      "fBodyAccJerk-kurtosis()-X    0\n",
      "fBodyAccJerk-maxInds-Y       0\n",
      "fBodyAccJerk-maxInds-Z       0\n",
      "fBodyAccJerk-meanFreq()-X    0\n",
      "fBodyAccJerk-meanFreq()-Y    0\n",
      "fBodyAccJerk-meanFreq()-Z    0\n",
      "fBodyAccJerk-skewness()-X    0\n",
      "fBodyAccJerk-skewness()-Y    0\n",
      "fBodyAccJerk-entropy()-Z     0\n",
      "dtype: int64\n",
      "Duplicate rows: 0\n"
     ]
    }
   ],
   "source": [
    "import pandas as pd\n",
    "import numpy as np\n",
    "from pathlib import Path\n",
    "\n",
    "train_path = Path(\"train_data_ready.csv\")\n",
    "test_path  = Path(\"test_data_ready.csv\")\n",
    "\n",
    "train_df = pd.read_csv(train_path, low_memory=False)\n",
    "test_df  = pd.read_csv(test_path,  low_memory=False)\n",
    "\n",
    "def quick_overview(df, name):\n",
    "    print(f\"=== {name} ===\")\n",
    "    print(f\"Shape: {df.shape[0]} rows x {df.shape[1]} cols\")\n",
    "    print(\"Dtypes count:\\n\", df.dtypes.value_counts())\n",
    "    print(\"\\nFirst 3 rows:\\n\", df.head(3))\n",
    "    print(\"\\nMissing values (top 10):\\n\", df.isnull().sum().sort_values(ascending=False).head(10))\n",
    "    print(\"Duplicate rows:\", df.duplicated().sum())\n",
    "\n",
    "quick_overview(train_df, \"TRAIN\")\n",
    "print()\n",
    "quick_overview(test_df, \"TEST\")"
   ]
  },
  {
   "cell_type": "code",
   "execution_count": 105,
   "id": "faa5d663-c743-44e0-96d0-19b34542da95",
   "metadata": {},
   "outputs": [
    {
     "name": "stdout",
     "output_type": "stream",
     "text": [
      "Classes (train): ['LAYING', 'SITTING', 'STANDING', 'WALKING', 'WALKING_DOWNSTAIRS', 'WALKING_UPSTAIRS']\n",
      "\n",
      "Train class distribution:\n",
      " Activity\n",
      "LAYING                1407\n",
      "STANDING              1374\n",
      "SITTING               1286\n",
      "WALKING               1226\n",
      "WALKING_UPSTAIRS      1073\n",
      "WALKING_DOWNSTAIRS     986\n",
      "Name: count, dtype: int64\n",
      "\n",
      "Test class distribution:\n",
      " Activity\n",
      "LAYING                537\n",
      "STANDING              532\n",
      "WALKING               496\n",
      "SITTING               491\n",
      "WALKING_UPSTAIRS      471\n",
      "WALKING_DOWNSTAIRS    420\n",
      "Name: count, dtype: int64\n"
     ]
    },
    {
     "data": {
      "image/png": "[encoded data removed]",
      "text/plain": [
       "<Figure size 640x480 with 1 Axes>"
      ]
     },
     "metadata": {},
     "output_type": "display_data"
    }
   ],
   "source": [
    "import matplotlib.pyplot as plt\n",
    "\n",
    "# Find label column\n",
    "label_col = \"Activity\"\n",
    "assert label_col in train_df.columns, \"Activity column not found\"\n",
    "\n",
    "print(\"Classes (train):\", sorted(train_df[label_col].unique().tolist()))\n",
    "print(\"\\nTrain class distribution:\\n\", train_df[label_col].value_counts())\n",
    "print(\"\\nTest class distribution:\\n\", test_df[label_col].value_counts())\n",
    "\n",
    "# Simple bar chart for train distribution\n",
    "train_df[label_col].value_counts().sort_index().plot(kind=\"bar\", title=\"Train class distribution\")\n",
    "plt.xlabel(\"Class\")\n",
    "plt.ylabel(\"Count\")\n",
    "plt.tight_layout()\n",
    "plt.show()"
   ]
  },
  {
   "cell_type": "code",
   "execution_count": 106,
   "id": "ecd7293f-bff0-4ec6-91bd-357057773373",
   "metadata": {},
   "outputs": [
    {
     "name": "stdout",
     "output_type": "stream",
     "text": [
      "Label → ID mapping:\n",
      "WALKING -> 1\n",
      "WALKING_UPSTAIRS -> 2\n",
      "WALKING_DOWNSTAIRS -> 3\n",
      "SITTING -> 4\n",
      "STANDING -> 5\n",
      "LAYING -> 6\n",
      "   Activity  ActivityId\n",
      "0  STANDING           5\n",
      "1  STANDING           5\n",
      "2  STANDING           5\n",
      "3  STANDING           5\n",
      "4  STANDING           5\n"
     ]
    }
   ],
   "source": [
    "custom_mapping = {\n",
    "    \"WALKING\": 1,\n",
    "    \"WALKING_UPSTAIRS\": 2,\n",
    "    \"WALKING_DOWNSTAIRS\": 3,\n",
    "    \"SITTING\": 4,\n",
    "    \"STANDING\": 5,\n",
    "    \"LAYING\": 6\n",
    "}\n",
    "\n",
    "train_df[\"ActivityId\"] = train_df[\"Activity\"].map(custom_mapping)\n",
    "test_df[\"ActivityId\"]  = test_df[\"Activity\"].map(custom_mapping)\n",
    "\n",
    "print(\"Label → ID mapping:\")\n",
    "for cls, idx in custom_mapping.items():\n",
    "    print(f\"{cls} -> {idx}\")\n",
    "\n",
    "print(train_df[[\"Activity\", \"ActivityId\"]].head())"
   ]
  },
  {
   "cell_type": "code",
   "execution_count": 107,
   "id": "dcdd7af4-4e6e-4ab8-9106-47e3da8fe6cb",
   "metadata": {},
   "outputs": [
    {
     "name": "stdout",
     "output_type": "stream",
     "text": [
      "X_train: (5881, 561) y_train: (5881,)\n",
      "X_val:   (1471, 561) y_val:   (1471,)\n",
      "Train dist: Counter({6: 1125, 5: 1099, 4: 1029, 1: 981, 2: 858, 3: 789})\n",
      "Val dist:   Counter({6: 282, 5: 275, 4: 257, 1: 245, 2: 215, 3: 197})\n"
     ]
    }
   ],
   "source": [
    "# Split data into train and validation sets\n",
    "from sklearn.model_selection import train_test_split\n",
    "\n",
    "# Keep metadata\n",
    "id_cols = [\"Subject\"]\n",
    "\n",
    "# Select feature columns (exclude Activity and ActivityId)\n",
    "feature_cols = [c for c in train_df.columns if c not in (id_cols + [\"Activity\", \"ActivityId\"])]\n",
    "\n",
    "# Prepare feature and label arrays\n",
    "X = train_df[feature_cols].values\n",
    "y = train_df[\"ActivityId\"].values\n",
    "\n",
    "# Split training set into train and validation (stratified by label)\n",
    "X_train, X_val, y_train, y_val = train_test_split(\n",
    "    X, y, test_size=0.2, random_state=42, stratify=y\n",
    ")\n",
    "\n",
    "print(\"X_train:\", X_train.shape, \"y_train:\", y_train.shape)\n",
    "print(\"X_val:  \", X_val.shape,   \"y_val:  \", y_val.shape)\n",
    "\n",
    "# Quick class distribution check\n",
    "from collections import Counter\n",
    "\n",
    "print(\"Train dist:\", Counter(y_train))\n",
    "print(\"Val dist:  \", Counter(y_val))"
   ]
  },
  {
   "cell_type": "code",
   "execution_count": 108,
   "id": "fc1b8a2c-d89d-4b83-9795-62434bf75a05",
   "metadata": {},
   "outputs": [
    {
     "name": "stdout",
     "output_type": "stream",
     "text": [
      "Scaled train median (first 5 features): [0. 0. 0. 0. 0.]\n",
      "Scaled train IQR    (first 5 features): [1. 1. 1. 1. 1.]\n"
     ]
    },
    {
     "data": {
      "text/plain": [
       "['robust_scaler.joblib']"
      ]
     },
     "execution_count": 108,
     "metadata": {},
     "output_type": "execute_result"
    }
   ],
   "source": [
    "# Scale features using RobustScaler and save artifacts\n",
    "\n",
    "from sklearn.preprocessing import RobustScaler\n",
    "import joblib\n",
    "\n",
    "# Scale features using RobustScaler\n",
    "scaler = RobustScaler()\n",
    "X_train_scaled = scaler.fit_transform(X_train)\n",
    "X_val_scaled   = scaler.transform(X_val)\n",
    "X_test_scaled  = scaler.transform(test_df[feature_cols].values)\n",
    "\n",
    "# Quick check of scaling (first 5 features)\n",
    "print(\"Scaled train median (first 5 features):\", np.round(np.median(X_train_scaled, axis=0)[:5], 4))\n",
    "print(\"Scaled train IQR    (first 5 features):\", np.round(np.percentile(X_train_scaled, 75, axis=0)[:5] - \n",
    "                                                          np.percentile(X_train_scaled, 25, axis=0)[:5], 4))\n",
    "\n",
    "# Save artifacts for next phases\n",
    "np.save(\"X_train_scaled.npy\", X_train_scaled)\n",
    "np.save(\"X_val_scaled.npy\",   X_val_scaled)\n",
    "np.save(\"X_test_scaled.npy\",  X_test_scaled)\n",
    "np.save(\"y_train.npy\",        y_train)\n",
    "np.save(\"y_val.npy\",          y_val)\n",
    "np.save(\"y_test.npy\",         test_df[\"ActivityId\"].values)\n",
    "joblib.dump(scaler, \"robust_scaler.joblib\")"
   ]
  },
  {
   "cell_type": "code",
   "execution_count": 109,
   "id": "bfb9f48c-1d4c-405c-bb20-7364968eb947",
   "metadata": {},
   "outputs": [
    {
     "name": "stdout",
     "output_type": "stream",
     "text": [
      "Variance stats:\n",
      "Min: 0.2313083862949165\n",
      "25th percentile: 0.38151635183946464\n",
      "Median: 0.5549371277270675\n",
      "75th percentile: 1.1959059655663726\n",
      "Max: 66.03254186190432\n"
     ]
    }
   ],
   "source": [
    "import numpy as np\n",
    "\n",
    "X_train = np.load(\"X_train_scaled.npy\")\n",
    "variances = X_train.var(axis=0)  # column-wise variance\n",
    "\n",
    "# Quick stats\n",
    "print(\"Variance stats:\")\n",
    "print(\"Min:\", variances.min())\n",
    "print(\"25th percentile:\", np.percentile(variances, 25))\n",
    "print(\"Median:\", np.median(variances))\n",
    "print(\"75th percentile:\", np.percentile(variances, 75))\n",
    "print(\"Max:\", variances.max())\n",
    "\n",
    "# no need for VarianceThreshold"
   ]
  },
  {
   "cell_type": "code",
   "execution_count": 110,
   "id": "af51e65a-aada-45ce-a8f3-8fcd7162eaa2",
   "metadata": {},
   "outputs": [
    {
     "name": "stdout",
     "output_type": "stream",
     "text": [
      "Total correlated pairs above 0.99: 205\n",
      "Candidate features to drop: 121\n"
     ]
    }
   ],
   "source": [
    "import itertools\n",
    "\n",
    "# Reload scaled train features\n",
    "X_train = np.load(\"X_train_scaled.npy\")\n",
    "\n",
    "# Create DataFrame for correlation analysis (use feature names for clarity)\n",
    "X_df = pd.DataFrame(X_train, columns=feature_cols)\n",
    "\n",
    "# Compute absolute correlation matrix\n",
    "corr_matrix = X_df.corr().abs()\n",
    "\n",
    "# Set correlation threshold (high because we want only almost-identical features)\n",
    "threshold = 0.99\n",
    "\n",
    "# Find all correlated pairs above threshold\n",
    "corr_pairs = []\n",
    "for i, j in itertools.combinations(corr_matrix.columns, 2):\n",
    "    if corr_matrix.loc[i, j] > threshold:\n",
    "        corr_pairs.append((i, j, corr_matrix.loc[i, j]))\n",
    "\n",
    "# Info about correlated pairs\n",
    "print(f\"Total correlated pairs above {threshold}: {len(corr_pairs)}\")\n",
    "\n",
    "# Candidate features to drop (we’ll refine later)\n",
    "to_drop_candidates = list(set([j for i, j, val in corr_pairs]))\n",
    "print(\"Candidate features to drop:\", len(to_drop_candidates))"
   ]
  },
  {
   "cell_type": "code",
   "execution_count": 111,
   "id": "00581be2-5cd0-4f0c-95ba-f8170e365041",
   "metadata": {},
   "outputs": [
    {
     "name": "stdout",
     "output_type": "stream",
     "text": [
      "Candidates to drop after spike safeguard: 19\n",
      "Kept due to spike differences: 147\n"
     ]
    }
   ],
   "source": [
    "# Define tolerance for spike difference\n",
    "# If the max/min differs by more than this, keep both\n",
    "tolerance = 0.05\n",
    "\n",
    "# Refined drop list\n",
    "to_keep_due_spikes = []\n",
    "to_drop_final = []\n",
    "\n",
    "for i, j, corr in corr_pairs:\n",
    "    col_i, col_j = X_df[i], X_df[j]\n",
    "\n",
    "    # Compare max/min differences\n",
    "    max_diff = abs(col_i.max() - col_j.max())\n",
    "    min_diff = abs(col_i.min() - col_j.min())\n",
    "\n",
    "    if max_diff > tolerance or min_diff > tolerance:\n",
    "        # Keep both, they capture different extremes\n",
    "        to_keep_due_spikes.extend([i, j])\n",
    "    else:\n",
    "        # Candidate to drop (for now keep only j, as before)\n",
    "        to_drop_final.append(j)\n",
    "\n",
    "# Deduplicate\n",
    "to_keep_due_spikes = list(set(to_keep_due_spikes))\n",
    "to_drop_final = [f for f in set(to_drop_final) if f not in to_keep_due_spikes]\n",
    "\n",
    "print(\"Candidates to drop after spike safeguard:\", len(to_drop_final))\n",
    "print(\"Kept due to spike differences:\", len(to_keep_due_spikes))"
   ]
  },
  {
   "cell_type": "code",
   "execution_count": 112,
   "id": "3f083fc1-d9fb-40cf-a4e4-f62cc80eb7d6",
   "metadata": {},
   "outputs": [
    {
     "name": "stdout",
     "output_type": "stream",
     "text": [
      "Number of important features: 306\n",
      "Number of features to drop after importance safeguard: 19\n"
     ]
    }
   ],
   "source": [
    "# Train RF on remaining features (X_train_scaled)\n",
    "X_train_temp = X_train_scaled[:, [f not in to_drop_final for f in feature_cols]]\n",
    "\n",
    "rf = RandomForestClassifier(n_estimators=100, random_state=42, n_jobs=-1)\n",
    "rf.fit(X_train_temp, y_train)\n",
    "# Get feature importances\n",
    "importances = rf.feature_importances_\n",
    "feature_importance_df = pd.DataFrame({\n",
    "    'feature': feature_names,\n",
    "    'importance': importances\n",
    "}).sort_values(by='importance', ascending=False)\n",
    "\n",
    "# Decide importance threshold (e.g., keep top 95% cumulative importance)\n",
    "cumulative_importance = feature_importance_df['importance'].cumsum()\n",
    "threshold_idx = np.where(cumulative_importance >= 0.95)[0][0]\n",
    "important_features = feature_importance_df['feature'].iloc[:threshold_idx+1].tolist()\n",
    "\n",
    "print(\"Number of important features:\", len(important_features))\n",
    "\n",
    "# Refine final drop list \n",
    "to_drop_final_refined = [f for f in to_drop_final if f not in important_features]\n",
    "\n",
    "print(\"Number of features to drop after importance safeguard:\", len(to_drop_final_refined))"
   ]
  },
  {
   "cell_type": "code",
   "execution_count": 116,
   "id": "0f7e9ee8-54ee-493c-a3d7-8ab3bcd74800",
   "metadata": {},
   "outputs": [
    {
     "name": "stdout",
     "output_type": "stream",
     "text": [
      "Final feature count: 542\n",
      "Final shapes:\n",
      "X_train_final: (5881, 542)\n",
      "X_val_final:   (1471, 542)\n",
      "X_test_final:  (2947, 542)\n"
     ]
    }
   ],
   "source": [
    "# Apply Final Drop List & Save Reduced Data\n",
    "\n",
    "# Convert final drop list into mask\n",
    "keep_features = [f for f in feature_cols if f not in drop_set]\n",
    "\n",
    "# Create a boolean mask for kept features\n",
    "mask = np.array([f in keep_features for f in feature_cols])\n",
    "\n",
    "# Apply mask to scaled arrays\n",
    "X_train_final = X_train_scaled[:, mask]\n",
    "X_val_final   = X_val_scaled[:, mask]\n",
    "X_test_final  = X_test_scaled[:, mask]\n",
    "\n",
    "print(\"Final feature count:\", len(keep_features))\n",
    "print(\"Final shapes:\")\n",
    "print(\"X_train_final:\", X_train_final.shape)\n",
    "print(\"X_val_final:  \", X_val_final.shape)\n",
    "print(\"X_test_final: \", X_test_final.shape)\n",
    "\n",
    "# Save reduced datasets\n",
    "np.save(\"X_train_final.npy\", X_train_final)\n",
    "np.save(\"X_val_final.npy\",   X_val_final)\n",
    "np.save(\"X_test_final.npy\",  X_test_final)\n",
    "\n",
    "# Save final kept feature names\n",
    "pd.Series(keep_features).to_csv(\"final_features.csv\", index=False)"
   ]
  },
  {
   "cell_type": "code",
   "execution_count": 117,
   "id": "f7399628-0833-47f7-b6f0-cd2991114a23",
   "metadata": {},
   "outputs": [
    {
     "name": "stdout",
     "output_type": "stream",
     "text": [
      "Train counts (ActivityId): Counter({6: 1125, 5: 1099, 4: 1029, 1: 981, 2: 858, 3: 789})\n",
      "Val counts (ActivityId): Counter({6: 282, 5: 275, 4: 257, 1: 245, 2: 215, 3: 197})\n",
      "Test counts (ActivityId): Counter({6: 537, 5: 532, 1: 496, 4: 491, 2: 471, 3: 420})\n"
     ]
    }
   ],
   "source": [
    "# Class Remapping\n",
    "# Imports & context\n",
    "from collections import Counter\n",
    "\n",
    "# If running in Jupyter, enable inline plots\n",
    "%matplotlib inline\n",
    "\n",
    "# Files we expect (created earlier)\n",
    "# - X_train_final.npy, X_val_final.npy, X_test_final.npy \n",
    "# - y_train.npy, y_val.npy, y_test.npy\n",
    "# - final_features.csv (list of kept features)\n",
    "\n",
    "# Load existing label arrays and inspect\n",
    "y_train = np.load(\"y_train.npy\")\n",
    "y_val   = np.load(\"y_val.npy\")\n",
    "y_test  = np.load(\"y_test.npy\")\n",
    "\n",
    "print(\"Train counts (ActivityId):\", Counter(y_train))\n",
    "print(\"Val counts (ActivityId):\", Counter(y_val))\n",
    "print(\"Test counts (ActivityId):\", Counter(y_test))"
   ]
  },
  {
   "cell_type": "code",
   "execution_count": 122,
   "id": "d70b5995-cc48-4833-a8cf-bfd5e2ce4a4e",
   "metadata": {},
   "outputs": [
    {
     "name": "stdout",
     "output_type": "stream",
     "text": [
      "Mapped train app class counts: Counter({2: 2628, 0: 2154, 1: 1099})\n",
      "Mapped val app class counts:   Counter({2: 657, 0: 539, 1: 275})\n",
      "Mapped test app class counts:  Counter({2: 1387, 0: 1028, 1: 532})\n"
     ]
    }
   ],
   "source": [
    "# Define mapping (ActivityId -> AppClass)\n",
    "# Earlier custom mapping was:\n",
    "# 1 WALKING, 2 WALKING_UPSTAIRS, 3 WALKING_DOWNSTAIRS, 4 SITTING, 5 STANDING, 6 LAYING\n",
    "\n",
    "# App classes integers chosen:\n",
    "# 0 = SEDENTARY (SITTING + LAYING)\n",
    "# 1 = STANDING\n",
    "# 2 = ACTIVE (WALKING, WALKING_UPSTAIRS, WALKING_DOWNSTAIRS)\n",
    "\n",
    "activityid_to_app = {1: 2, 2: 2, 3: 2, 4: 0, 5: 1, 6: 0}\n",
    "\n",
    "# human readable mapping\n",
    "app_to_name = {0: \"SEDENTARY\", 1: \"STANDING\", 2: \"ACTIVE\"}\n",
    "\n",
    "# Map labels, with safety checks\n",
    "def map_activityid_array(arr, mapping):\n",
    "    # Check all values exist in mapping\n",
    "    vals = np.unique(arr)\n",
    "    missing = [v for v in vals if v not in mapping]\n",
    "    if missing:\n",
    "        raise ValueError(f\"Found ActivityId values not in mapping: {missing}\")\n",
    "    return np.array([mapping[x] for x in arr])\n",
    "\n",
    "y_train_app = map_activityid_array(y_train, activityid_to_app)\n",
    "y_val_app   = map_activityid_array(y_val,   activityid_to_app)\n",
    "y_test_app  = map_activityid_array(y_test,  activityid_to_app)\n",
    "\n",
    "# Quick stats\n",
    "print(\"Mapped train app class counts:\", Counter(y_train_app))\n",
    "print(\"Mapped val app class counts:  \", Counter(y_val_app))\n",
    "print(\"Mapped test app class counts: \", Counter(y_test_app))"
   ]
  },
  {
   "cell_type": "code",
   "execution_count": 123,
   "id": "e2ad09ac-e207-46b1-a748-94b860775d42",
   "metadata": {},
   "outputs": [
    {
     "data": {
      "image/png": "[encoded data removed]",
      "text/plain": [
       "<Figure size 1500x400 with 3 Axes>"
      ]
     },
     "metadata": {},
     "output_type": "display_data"
    }
   ],
   "source": [
    "# Plot distributions for train/val/test\n",
    "fig, axes = plt.subplots(1,3, figsize=(15,4))\n",
    "for ax, (arr, title) in zip(axes, [(y_train_app,'Train'),(y_val_app,'Validation'),(y_test_app,'Test')]):\n",
    "    counts = pd.Series(arr).value_counts().sort_index()\n",
    "    counts.index = counts.index.map(lambda x: app_to_name[x])\n",
    "    counts.plot(kind='bar', ax=ax, title=f\"{title} class distribution\")\n",
    "    ax.set_ylabel(\"Count\")\n",
    "plt.tight_layout()\n",
    "plt.show()"
   ]
  },
  {
   "cell_type": "code",
   "execution_count": 124,
   "id": "cc827d9a-ff15-4b48-ab76-f331442e6e6d",
   "metadata": {},
   "outputs": [
    {
     "name": "stdout",
     "output_type": "stream",
     "text": [
      "Saved y_train_app.npy, y_val_app.npy, y_test_app.npy, and label_mapping_app.csv\n"
     ]
    }
   ],
   "source": [
    "# Save arrays and small mapping CSV for reproducibility\n",
    "np.save(\"y_train_app.npy\", y_train_app)\n",
    "np.save(\"y_val_app.npy\",   y_val_app)\n",
    "np.save(\"y_test_app.npy\",  y_test_app)\n",
    "\n",
    "# Save mapping as human-readable CSV\n",
    "mapping_rows = []\n",
    "for aid, app in activityid_to_app.items():\n",
    "    mapping_rows.append({\n",
    "        \"ActivityId\": int(aid),\n",
    "        \"ActivityName\": activityid_to_name[aid],\n",
    "        \"AppClassId\": int(app),\n",
    "        \"AppClassName\": app_to_name[app]\n",
    "    })\n",
    "pd.DataFrame(mapping_rows).to_csv(\"label_mapping_app.csv\", index=False)\n",
    "\n",
    "# Save app class names\n",
    "pd.Series(app_to_name).to_csv(\"app_class_names.csv\", header=[\"class_name\"])\n",
    "print(\"Saved y_train_app.npy, y_val_app.npy, y_test_app.npy, and label_mapping_app.csv\")"
   ]
  },
  {
   "cell_type": "code",
   "execution_count": 125,
   "id": "4d1e6e58-5107-45e8-85e0-66c062228e65",
   "metadata": {},
   "outputs": [
    {
     "name": "stdout",
     "output_type": "stream",
     "text": [
      "No NaNs in mapped label arrays.\n",
      "Shapes check:\n",
      "X_train_final: (5881, 542) y_train_app: (5881,)\n",
      "X_val_final:   (1471, 542) y_val_app:   (1471,)\n",
      "X_test_final:  (2947, 542) y_test_app:  (2947,)\n",
      "Shapes align. Ready to proceed to feature selection & windowing.\n"
     ]
    }
   ],
   "source": [
    "# Final sanity checks before moving to feature engineering\n",
    "# Ensure no NaNs\n",
    "for arr, name in [(y_train_app,\"y_train_app\"), (y_val_app,\"y_val_app\"), (y_test_app,\"y_test_app\")]:\n",
    "    if np.isnan(arr).any():\n",
    "        raise ValueError(f\"{name} contains NaN values\")\n",
    "print(\"No NaNs in mapped label arrays.\")\n",
    "\n",
    "# Ensure shapes consistent with feature arrays\n",
    "# Load feature arrays\n",
    "X_train_final, X_val_final, X_test_final = [np.load(f) for f in (\"X_train_final.npy\", \"X_val_final.npy\", \"X_test_final.npy\")]\n",
    "\n",
    "print(\"Shapes check:\")\n",
    "print(\"X_train_final:\", X_train_final.shape, \"y_train_app:\", y_train_app.shape)\n",
    "print(\"X_val_final:  \", X_val_final.shape,   \"y_val_app:  \", y_val_app.shape)\n",
    "print(\"X_test_final: \", X_test_final.shape,  \"y_test_app: \", y_test_app.shape)\n",
    "\n",
    "# If shapes mismatch (rows), stop here and we need to align splits.\n",
    "if X_train_final.shape[0] != y_train_app.shape[0] or X_val_final.shape[0] != y_val_app.shape[0] or X_test_final.shape[0] != y_test_app.shape[0]:\n",
    "    raise ValueError(\"Row count mismatch between X and y arrays. Double-check the train/val/test splits.\")\n",
    "print(\"Shapes align. Ready to proceed to feature selection & windowing.\")"
   ]
  },
  {
   "cell_type": "code",
   "execution_count": 71,
   "id": "b9b14b4f-f0bd-4480-a482-8cc22d2040ac",
   "metadata": {},
   "outputs": [
    {
     "name": "stdout",
     "output_type": "stream",
     "text": [
      "Shapes:\n",
      "X_train: (5881, 542) y_train_app: (5881,)\n",
      "X_val:   (1471, 542) y_val_app: (1471,)\n",
      "X_test:  (2947, 542) y_test_app: (2947,)\n",
      "Number of features: 543\n"
     ]
    }
   ],
   "source": [
    "# Load reduced features and new labels\n",
    "from sklearn.ensemble import RandomForestClassifier\n",
    "\n",
    "# Load features (already reduced by correlation pruning)\n",
    "X_train, X_val, X_test = [np.load(f) for f in (\"X_train_final.npy\",\"X_val_final.npy\",\"X_test_final.npy\")]\n",
    "\n",
    "# Load new 3-class labels from Step 3\n",
    "y_train_app, y_val_app, y_test_app = [np.load(f) for f in (\"y_train_app.npy\",\"y_val_app.npy\",\"y_test_app.npy\")]\n",
    "\n",
    "# Load feature names for tracking\n",
    "feature_names = pd.read_csv(\"final_features.csv\", header=None)[0].tolist()\n",
    "\n",
    "print(\"Shapes:\")\n",
    "print(\"X_train:\", X_train.shape, \"y_train_app:\", y_train_app.shape)\n",
    "print(\"X_val:  \", X_val.shape,   \"y_val_app:\", y_val_app.shape)\n",
    "print(\"X_test: \", X_test.shape,  \"y_test_app:\", y_test_app.shape)\n",
    "print(\"Number of features:\", len(feature_names))"
   ]
  },
  {
   "cell_type": "code",
   "execution_count": 72,
   "id": "bc190aa3-a8f8-4b5b-9d78-0fed47cbd745",
   "metadata": {},
   "outputs": [
    {
     "name": "stdout",
     "output_type": "stream",
     "text": [
      "Number of features in X_train: 542\n",
      "Number of feature names loaded: 542\n",
      "Top 10 most important features:\n",
      "                             feature  importance\n",
      "50               tGravityAcc-max()-Y    0.037298\n",
      "41              tGravityAcc-mean()-Y    0.032442\n",
      "540             angle(Y,gravityMean)    0.027614\n",
      "53               tGravityAcc-min()-Y    0.027274\n",
      "96           tBodyAccJerk-energy()-X    0.023574\n",
      "376  fBodyAccJerk-bandsEnergy()-1,24    0.021908\n",
      "334             fBodyAccJerk-mad()-X    0.021896\n",
      "372  fBodyAccJerk-bandsEnergy()-1,16    0.020423\n",
      "364   fBodyAccJerk-bandsEnergy()-1,8    0.020185\n",
      "541             angle(Z,gravityMean)    0.019151\n"
     ]
    }
   ],
   "source": [
    "# Load final kept feature names\n",
    "feature_names = pd.read_csv(\"final_features.csv\").squeeze(\"columns\").tolist()\n",
    "\n",
    "print(\"Number of features in X_train:\", X_train.shape[1])\n",
    "print(\"Number of feature names loaded:\", len(feature_names))\n",
    "\n",
    "if len(feature_names) != X_train.shape[1]:\n",
    "    raise ValueError(\"Mismatch between X_train columns and feature_names list!\")\n",
    "\n",
    "# Train Random Forest for feature importance\n",
    "rf = RandomForestClassifier(\n",
    "    n_estimators=300, \n",
    "    random_state=42, \n",
    "    n_jobs=-1,\n",
    "    class_weight=\"balanced\"  # handle class imbalance safely\n",
    ")\n",
    "\n",
    "rf.fit(X_train, y_train_app)\n",
    "\n",
    "importances = rf.feature_importances_\n",
    "importance_df = pd.DataFrame({\n",
    "    \"feature\": feature_names,\n",
    "    \"importance\": importances\n",
    "}).sort_values(by=\"importance\", ascending=False)\n",
    "\n",
    "# Save importance ranking\n",
    "importance_df.to_csv(\"feature_importances_rf.csv\", index=False)\n",
    "\n",
    "print(\"Top 10 most important features:\")\n",
    "print(importance_df.head(10))"
   ]
  },
  {
   "cell_type": "code",
   "execution_count": 73,
   "id": "1ab42a60-afe8-4f07-8b10-31b6a19b7a34",
   "metadata": {},
   "outputs": [
    {
     "data": {
      "image/png": "[encoded data removed]",
      "text/plain": [
       "<Figure size 800x500 with 1 Axes>"
      ]
     },
     "metadata": {},
     "output_type": "display_data"
    },
    {
     "name": "stdout",
     "output_type": "stream",
     "text": [
      "Number of features needed for 95% importance: 245\n"
     ]
    }
   ],
   "source": [
    "# Plot cumulative importance curve\n",
    "cumulative = importance_df[\"importance\"].cumsum()\n",
    "\n",
    "plt.figure(figsize=(8,5))\n",
    "plt.plot(range(len(cumulative)), cumulative, marker=\".\")\n",
    "plt.axhline(y=0.95, color=\"red\", linestyle=\"--\", label=\"95% cutoff\")\n",
    "plt.xlabel(\"Number of features\")\n",
    "plt.ylabel(\"Cumulative importance\")\n",
    "plt.title(\"Feature importance cumulative curve\")\n",
    "plt.legend()\n",
    "plt.grid(True)\n",
    "plt.show()\n",
    "\n",
    "# Find number of features needed for 95% importance\n",
    "n_keep = np.where(cumulative >= 0.95)[0][0] + 1\n",
    "print(f\"Number of features needed for 95% importance: {n_keep}\")"
   ]
  },
  {
   "cell_type": "code",
   "execution_count": 74,
   "id": "094925a7-d340-48cc-89d8-4e72a56ffde4",
   "metadata": {},
   "outputs": [
    {
     "name": "stdout",
     "output_type": "stream",
     "text": [
      "Original features: 542\n",
      "Kept features: 245\n",
      "Saved reduced feature arrays and feature list.\n"
     ]
    }
   ],
   "source": [
    "# Select and save reduced feature set\n",
    "# Keep top features covering 95% of importance\n",
    "top_features = importance_df[\"feature\"].iloc[:n_keep].tolist()\n",
    "\n",
    "# Create boolean mask for these features\n",
    "mask = [f in top_features for f in feature_names]\n",
    "\n",
    "X_train_sel = X_train[:, mask]\n",
    "X_val_sel   = X_val[:, mask]\n",
    "X_test_sel  = X_test[:, mask]\n",
    "\n",
    "print(\"Original features:\", X_train.shape[1])\n",
    "print(\"Kept features:\", X_train_sel.shape[1])\n",
    "\n",
    "# Save reduced arrays\n",
    "np.save(\"X_train_sel.npy\", X_train_sel)\n",
    "np.save(\"X_val_sel.npy\",   X_val_sel)\n",
    "np.save(\"X_test_sel.npy\",  X_test_sel)\n",
    "pd.Series(top_features).to_csv(\"selected_features.csv\", index=False)\n",
    "\n",
    "print(\"Saved reduced feature arrays and feature list.\")"
   ]
  }
 ],
 "metadata": {
  "kernelspec": {
   "display_name": "Python 3 (ipykernel)",
   "language": "python",
   "name": "python3"
  },
  "language_info": {
   "codemirror_mode": {
    "name": "ipython",
    "version": 3
   },
   "file_extension": ".py",
   "mimetype": "text/x-python",
   "name": "python",
   "nbconvert_exporter": "python",
   "pygments_lexer": "ipython3",
   "version": "3.12.7"
  }
 },
 "nbformat": 4,
 "nbformat_minor": 5
}
